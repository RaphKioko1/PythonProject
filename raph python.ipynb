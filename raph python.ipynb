{
 "cells": [
  {
   "cell_type": "code",
   "execution_count": 1,
   "id": "fffb2835-31e1-432f-93be-74baf81b71d0",
   "metadata": {},
   "outputs": [],
   "source": [
    "word = \"bananana\"\n",
    "i = word.find(\"na\")"
   ]
  },
  {
   "cell_type": "code",
   "execution_count": 37,
   "id": "97818d79-d883-454c-be0e-360b208d31c5",
   "metadata": {},
   "outputs": [
    {
     "name": "stdout",
     "output_type": "stream",
     "text": [
      "Hello sioFriday world\n",
      "hELLO SIOfRIDAY WORLD\n"
     ]
    }
   ],
   "source": [
    "a=\"Hello\"\n",
    "b=\"world\"\n",
    "d=\"sioFriday\"\n",
    "c= a +\" \"+d +\" \"+ b\n",
    "print(c)\n",
    "\n",
    "print(c.swapcase())"
   ]
  },
  {
   "cell_type": "code",
   "execution_count": 19,
   "id": "b757b707-2c70-4a6a-ada5-1d4c86f149a7",
   "metadata": {},
   "outputs": [
    {
     "name": "stdout",
     "output_type": "stream",
     "text": [
      "['apple', 'banana']\n",
      "cherry\n"
     ]
    }
   ],
   "source": [
    "thislist = [\"apple\", \"banana\", \"cherry\"]\n",
    "print(thislist[0:2])\n",
    "print (thislist[2])"
   ]
  },
  {
   "cell_type": "code",
   "execution_count": 22,
   "id": "34be5ab9-8698-4a34-9c5b-83d26c9464df",
   "metadata": {},
   "outputs": [
    {
     "name": "stdout",
     "output_type": "stream",
     "text": [
      "['apple', 'Avocado', 'Maembe', 'orange', 'kiwi', 'mango']\n"
     ]
    }
   ],
   "source": [
    "thislist = [\"apple\", \"banana\", \"cherry\", \"orange\", \"kiwi\", \"mango\"]\n",
    "thislist[1:3] = [\"Avocado\", \"Maembe\"]\n",
    "print(thislist)"
   ]
  },
  {
   "cell_type": "code",
   "execution_count": 26,
   "id": "78f544e5-7e1f-447f-a205-eb858ff96254",
   "metadata": {},
   "outputs": [
    {
     "name": "stdout",
     "output_type": "stream",
     "text": [
      "['apple', 'cherry']\n"
     ]
    }
   ],
   "source": [
    "thislist = [\"apple\", \"banana\", \"cherry\"]\n",
    "thislist.remove(\"banana\")\n",
    "print(thislist)"
   ]
  },
  {
   "cell_type": "code",
   "execution_count": 1,
   "id": "d6513536-adab-4e53-8c1c-8744bf91e552",
   "metadata": {},
   "outputs": [
    {
     "name": "stdout",
     "output_type": "stream",
     "text": [
      "HTTP/1.1 200 OK\n",
      "Date: Wed, 06 Nov 2024 13:11:19 GMT\n",
      "Server: Apache/2.4.52 (Ubuntu)\n",
      "Last-Modified: Sat, 13 May 2017 11:22:22 GMT\n",
      "ETag: \"a7-54f6609245537\"\n",
      "Accept-Ranges: bytes\n",
      "Content-Length: 167\n",
      "Cache-Control: max-age=0, no-cache, no-store, must-revalidate\n",
      "Pragma: no-cache\n",
      "Expires: Wed, 11 Jan 1984 05:00:00 GMT\n",
      "Connection: close\n",
      "Content-Type: text/plain\n",
      "\n",
      "But soft what light through yonder window breaks\n",
      "It is the east and Juliet is the sun\n",
      "Arise fair sun and kill the envious moon\n",
      "Who is already sick and pale with grief\n"
     ]
    }
   ],
   "source": [
    "import socket\n",
    "\n",
    "mysock = socket.socket(socket.AF_INET, socket.SOCK_STREAM)\n",
    "mysock.connect(('data.pr4e.org', 80))\n",
    "cmd = 'GET http://data.pr4e.org/romeo.txt HTTP/1.0\\r\\n\\r\\n'.encode()\n",
    "mysock.send(cmd)\n",
    "\n",
    "while True:\n",
    "    data = mysock.recv(512)\n",
    "    if len(data) < 1:\n",
    "        break\n",
    "    print(data.decode(),end='')\n",
    "mysock.close()"
   ]
  },
  {
   "cell_type": "code",
   "execution_count": 3,
   "id": "b0db3744-61b1-4cb2-8b09-a5f0d7ade2dd",
   "metadata": {},
   "outputs": [
    {
     "name": "stdout",
     "output_type": "stream",
     "text": [
      "But soft what light through yonder window breaks\n",
      "It is the east and Juliet is the sun\n",
      "Arise fair sun and kill the envious moon\n",
      "Who is already sick and pale with grief\n"
     ]
    }
   ],
   "source": [
    "import urllib.request\n",
    "fhand = urllib.request.urlopen('http://data.pr4e.org/romeo.txt')\n",
    "for line in fhand:\n",
    "    print(line.decode().strip())"
   ]
  },
  {
   "cell_type": "code",
   "execution_count": 7,
   "id": "d1466748-2144-47ee-b9fe-44bf65fd4ce7",
   "metadata": {},
   "outputs": [
    {
     "ename": "SyntaxError",
     "evalue": "invalid syntax (200671219.py, line 1)",
     "output_type": "error",
     "traceback": [
      "\u001b[1;36m  Cell \u001b[1;32mIn[7], line 1\u001b[1;36m\u001b[0m\n\u001b[1;33m    <person>\u001b[0m\n\u001b[1;37m    ^\u001b[0m\n\u001b[1;31mSyntaxError\u001b[0m\u001b[1;31m:\u001b[0m invalid syntax\n"
     ]
    }
   ],
   "source": [
    "<person>\n",
    "  <name>Chuck</name>\n",
    "  <phone type=\"intl\">\n",
    "    +1 734 303 4456\n",
    "</phone>\n",
    "  <email hide=\"yes\" />\n",
    "</person>"
   ]
  },
  {
   "cell_type": "code",
   "execution_count": 5,
   "id": "de10024d-ba22-4612-acc2-14493dde9027",
   "metadata": {},
   "outputs": [
    {
     "name": "stdout",
     "output_type": "stream",
     "text": [
      "[1 2 3 4 4]\n",
      "[0 1 2 3]\n"
     ]
    }
   ],
   "source": [
    "import numpy as np\n",
    "\n",
    "# Correctly define the array\n",
    "arr = np.array([1, 2, 3, 4, 4])\n",
    "\n",
    "# Define another array using np.arange\n",
    "a = np.arange(4)\n",
    "\n",
    "print(arr)\n",
    "print(a)\n"
   ]
  },
  {
   "cell_type": "code",
   "execution_count": 3,
   "id": "d552fa6e-48c5-4706-93c1-963014773a97",
   "metadata": {},
   "outputs": [
    {
     "ename": "NameError",
     "evalue": "name 'array' is not defined",
     "output_type": "error",
     "traceback": [
      "\u001b[1;31m---------------------------------------------------------------------------\u001b[0m",
      "\u001b[1;31mNameError\u001b[0m                                 Traceback (most recent call last)",
      "Cell \u001b[1;32mIn[3], line 1\u001b[0m\n\u001b[1;32m----> 1\u001b[0m array([\u001b[38;5;241m1\u001b[39m,\u001b[38;5;241m2\u001b[39m,\u001b[38;5;241m3\u001b[39m,\u001b[38;5;241m4\u001b[39m,\u001b[38;5;241m4\u001b[39m,])\n\u001b[0;32m      2\u001b[0m a\u001b[38;5;241m=\u001b[39mnp\u001b[38;5;241m.\u001b[39marange(\u001b[38;5;241m4\u001b[39m)\n",
      "\u001b[1;31mNameError\u001b[0m: name 'array' is not defined"
     ]
    }
   ],
   "source": [
    "array([1,2,3,4,4,])\n",
    "a=np.arange(4)"
   ]
  },
  {
   "cell_type": "code",
   "execution_count": 7,
   "id": "cdab59e6-2b49-4791-a6c1-068e3bc8dc93",
   "metadata": {},
   "outputs": [
    {
     "name": "stdout",
     "output_type": "stream",
     "text": [
      "[ True  True  True  True False]\n"
     ]
    }
   ],
   "source": [
    "a = np.arange(5)\n",
    "\n",
    "print(a <= 3)"
   ]
  },
  {
   "cell_type": "code",
   "execution_count": 1,
   "id": "e6d1b14a-6d38-4b2b-9b7a-e5f86f48cbda",
   "metadata": {},
   "outputs": [
    {
     "name": "stdout",
     "output_type": "stream",
     "text": [
      "Tom     8\n",
      "Beau    6\n",
      "dtype: int64\n"
     ]
    }
   ],
   "source": [
    "import pandas as pd\n",
    "\n",
    "certificates_earned = pd.Series(\n",
    "    [8, 2, 5, 6],\n",
    "    index=['Tom', 'Kris', 'Ahmad', 'Beau']\n",
    ")\n",
    "\n",
    "print(certificates_earned[certificates_earned > 5])"
   ]
  },
  {
   "cell_type": "code",
   "execution_count": 3,
   "id": "49085945-ea68-45e6-b1f4-2cba0e74d3fd",
   "metadata": {},
   "outputs": [
    {
     "name": "stdout",
     "output_type": "stream",
     "text": [
      "Certificates        5\n",
      "Time (in months)    9\n",
      "Name: Ahmad, dtype: int64\n"
     ]
    }
   ],
   "source": [
    "import pandas as pd\n",
    "\n",
    "certificates_earned = pd.DataFrame({\n",
    "    'Certificates': [8, 2, 5, 6],\n",
    "    'Time (in months)': [16, 5, 9, 12]\n",
    "})\n",
    "\n",
    "certificates_earned.index = ['Tom', 'Kris', 'Ahmad', 'Beau']\n",
    "\n",
    "print(certificates_earned.iloc[2])"
   ]
  },
  {
   "cell_type": "code",
   "execution_count": 15,
   "id": "f06b5cb0-8ee4-4f29-a949-ca676041c00c",
   "metadata": {},
   "outputs": [
    {
     "name": "stdout",
     "output_type": "stream",
     "text": [
      "       Certificates  Time (in months)  Longest streak\n",
      "Tom               8                16              13\n",
      "Kris              2                 5              11\n",
      "Ahmad             5                 9               9\n",
      "Beau              6                12               7\n"
     ]
    }
   ],
   "source": [
    "import pandas as pd\n",
    "\n",
    "certificates_earned = pd.DataFrame({\n",
    "    'Certificates': [8, 2, 5, 6],\n",
    "    'Time (in months)': [16, 5, 9, 12]\n",
    "})\n",
    "names = ['Tom', 'Kris', 'Ahmad', 'Beau']\n",
    "\n",
    "certificates_earned.index = names\n",
    "longest_streak = pd.Series([13, 11, 9, 7], index=names)\n",
    "certificates_earned['Longest streak'] = longest_streak\n",
    "\n",
    "print(certificates_earned)\n"
   ]
  },
  {
   "cell_type": "code",
   "execution_count": 17,
   "id": "64125b49-20d9-453d-ac8b-c1a69e74c5c2",
   "metadata": {},
   "outputs": [
    {
     "name": "stdout",
     "output_type": "stream",
     "text": [
      "0    NaN\n",
      "1    1.0\n",
      "2    2.0\n",
      "3    2.0\n",
      "4    3.0\n",
      "dtype: float64\n"
     ]
    },
    {
     "name": "stderr",
     "output_type": "stream",
     "text": [
      "C:\\Users\\RAPHAEL-PC\\AppData\\Local\\Temp\\ipykernel_16304\\1853847418.py:5: FutureWarning: Series.fillna with 'method' is deprecated and will raise in a future version. Use obj.ffill() or obj.bfill() instead.\n",
      "  s = s.fillna(method='ffill')\n"
     ]
    }
   ],
   "source": [
    "import pandas as pd\n",
    "import numpy as np\n",
    "\n",
    "s = pd.Series([np.nan, 1, 2, np.nan, 3])\n",
    "s = s.fillna(method='ffill')\n",
    "\n",
    "print(s)"
   ]
  },
  {
   "cell_type": "code",
   "execution_count": 33,
   "id": "41af7b41-278f-4d41-916f-c338ba8c63a9",
   "metadata": {},
   "outputs": [
    {
     "data": {
      "image/png": "[encoded data removed]",
      "text/plain": [
       "<Figure size 1200x600 with 1 Axes>"
      ]
     },
     "metadata": {},
     "output_type": "display_data"
    }
   ],
   "source": [
    "import matplotlib.pyplot as plt \n",
    "x = range(10)\n",
    "fig, axes =plt.subplots(figsize=(12,6))\n",
    "axes.plot(x, [i + 0 for i in x], '-og',label=\"solid green\")\n",
    "axes.plot(x, [i + 1 for i in x], '--c',label=\"dashed cyan\")\n",
    "axes.plot(x, [i + 2 for i in x], '-.b',label=\"dashdot blue\")\n",
    "axes.plot(x, [i + 3 for i in x], ':r',label=\"dotted red\")\n",
    "axes.set_title(\"Flo you have switched to holiday\")\n",
    "axes.legend()\n",
    "plt.show()\n"
   ]
  },
  {
   "cell_type": "code",
   "execution_count": 39,
   "id": "b91419e8-a34b-4894-996c-258fa9595992",
   "metadata": {},
   "outputs": [
    {
     "name": "stdout",
     "output_type": "stream",
     "text": [
      "10\n"
     ]
    }
   ],
   "source": [
    "x=10\n",
    "print(x)"
   ]
  },
  {
   "cell_type": "code",
   "execution_count": 49,
   "id": "27e7cc62-bbc7-4765-9e04-a74bf94501f1",
   "metadata": {},
   "outputs": [
    {
     "name": "stdout",
     "output_type": "stream",
     "text": [
      "   Unnamed: 0 Unnamed: 1           Unnamed: 2  Unnamed: 3  PRODUCTION  \\\n",
      "0         NaN        NaN                  NaN         NaN         NaN   \n",
      "1         NaN        NaN                  NaN         NaN         NaN   \n",
      "2         NaN        NaN                  NaN         NaN         NaN   \n",
      "3         NaN          #        Policy Number         NaN         NaN   \n",
      "4         NaN     P-1828  5520631000618202408         NaN         NaN   \n",
      "\n",
      "                   Unnamed: 5          Unnamed: 6  \\\n",
      "0                         NaN                 NaN   \n",
      "1                         NaN                 NaN   \n",
      "2                         NaN                 NaN   \n",
      "3                  Order Date  Certificate Number   \n",
      "4  2024-11-06 18:09:35.207000          MCI:001694   \n",
      "\n",
      "                         Unnamed: 7  \\\n",
      "0                               NaN   \n",
      "1                               NaN   \n",
      "2                               NaN   \n",
      "3                      Insured Name   \n",
      "4  ABYSSINIA IRON AND STEEL LIMITED   \n",
      "\n",
      "                                         Unnamed: 8  Unnamed: 9  ...  \\\n",
      "0                                               NaN         NaN  ...   \n",
      "1                                               NaN         NaN  ...   \n",
      "2                                               NaN         NaN  ...   \n",
      "3                                      Intermediary         NaN  ...   \n",
      "4  DIAMOND TRUST BANCASSURANCE INTERMEDIARY LIMITED         NaN  ...   \n",
      "\n",
      "         Unnamed: 24     Unnamed: 25 Unnamed: 26 Unnamed: 27    Unnamed: 28  \\\n",
      "0                NaN             NaN         NaN         NaN            NaN   \n",
      "1                NaN             NaN         NaN         NaN            NaN   \n",
      "2                NaN             NaN         NaN         NaN            NaN   \n",
      "3  Extension Premium  STAMP DUTY AMT     ITL AMT     PHF AMT  Basic Premium   \n",
      "4                  0          7.9196           5      9.8996        3959.84   \n",
      "\n",
      "  Unnamed: 29  Unnamed: 30 Unnamed: 31         Unnamed: 32     Unnamed: 33  \n",
      "0         NaN          NaN         NaN                 NaN             NaN  \n",
      "1         NaN          NaN         NaN                 NaN             NaN  \n",
      "2         NaN          NaN         NaN                 NaN             NaN  \n",
      "3     Premium  Net Premium    Currency  Net Premium In KES  Payment Method  \n",
      "4     3959.84    3982.6592         KES           3982.6592          Credit  \n",
      "\n",
      "[5 rows x 34 columns]\n"
     ]
    }
   ],
   "source": [
    "import pandas as pd \n",
    "df = pd.read_excel('C:\\\\Users\\\\RAPHAEL-PC\\\\OneDrive\\\\Desktop\\\\Production_Report (3).xlsx',skiprows=2)\n",
    "print(df.head())"
   ]
  },
  {
   "cell_type": "code",
   "execution_count": 51,
   "id": "a30c0c2c-85de-4fc2-8444-d58f0879e4e5",
   "metadata": {},
   "outputs": [
    {
     "name": "stdout",
     "output_type": "stream",
     "text": [
      "  Unnamed: 1                Unnamed: 2                  Unnamed: 5  \\\n",
      "2          #             Policy Number                  Order Date   \n",
      "3     P-1828       5520631000618202408  2024-11-06 18:09:35.207000   \n",
      "4     P-1827  571/063/1/000586/2024/01  2024-11-06 17:01:24.163000   \n",
      "5     P-1826  571/063/1/000586/2024/01  2024-11-06 16:49:21.780000   \n",
      "6     P-1825  571/063/1/000586/2024/01  2024-11-06 16:36:35.340000   \n",
      "\n",
      "           Unnamed: 6                        Unnamed: 7  \\\n",
      "2  Certificate Number                      Insured Name   \n",
      "3          MCI:001694  ABYSSINIA IRON AND STEEL LIMITED   \n",
      "4          MCI:001693               SWAFI FOODS LIMITED   \n",
      "5          MCI:001692               SWAFI FOODS LIMITED   \n",
      "6          MCI:001691               SWAFI FOODS LIMITED   \n",
      "\n",
      "                                         Unnamed: 8  Unnamed: 10  \\\n",
      "2                                      Intermediary       Branch   \n",
      "3  DIAMOND TRUST BANCASSURANCE INTERMEDIARY LIMITED  HOME OFFICE   \n",
      "4      MIC GLOBAL RISKS INSURANCE BROKERS - MOMBASA      MOMBASA   \n",
      "5      MIC GLOBAL RISKS INSURANCE BROKERS - MOMBASA      MOMBASA   \n",
      "6      MIC GLOBAL RISKS INSURANCE BROKERS - MOMBASA      MOMBASA   \n",
      "\n",
      "                  Unnamed: 11          Unnamed: 12          Unnamed: 13  ...  \\\n",
      "2                   Issued On                  WEF                  WET  ...   \n",
      "3  2024-11-06 18:10:16.177000  2024-11-06 00:00:00  2025-02-04 00:00:00  ...   \n",
      "4  2024-11-06 17:01:59.267000  2024-10-29 00:00:00  2025-01-27 00:00:00  ...   \n",
      "5  2024-11-06 16:49:48.013000  2024-10-29 00:00:00  2025-01-27 00:00:00  ...   \n",
      "6  2024-11-06 16:37:06.153000  2024-10-28 00:00:00  2025-01-26 00:00:00  ...   \n",
      "\n",
      "         Unnamed: 24     Unnamed: 25 Unnamed: 26 Unnamed: 27    Unnamed: 28  \\\n",
      "2  Extension Premium  STAMP DUTY AMT     ITL AMT     PHF AMT  Basic Premium   \n",
      "3                  0          7.9196           5      9.8996        3959.84   \n",
      "4                  0          0.0895      0.0387      0.1119          44.78   \n",
      "5                  0          0.0896      0.0387       0.112           44.8   \n",
      "6                  0           0.148      0.0387      0.1851          74.04   \n",
      "\n",
      "  Unnamed: 29  Unnamed: 30 Unnamed: 31         Unnamed: 32     Unnamed: 33  \n",
      "2     Premium  Net Premium    Currency  Net Premium In KES  Payment Method  \n",
      "3     3959.84    3982.6592         KES           3982.6592          Credit  \n",
      "4       44.78      45.0202         USD         5816.510796          Credit  \n",
      "5        44.8      45.0403         USD         5819.107671          Credit  \n",
      "6       74.04      74.4118         USD         9613.840854          Credit  \n",
      "\n",
      "[5 rows x 30 columns]\n"
     ]
    }
   ],
   "source": [
    "import pandas as pd\n",
    "\n",
    "# Read the Excel file, set the header to the correct row and skip the first few metadata rows\n",
    "df = pd.read_excel(r'C:\\Users\\RAPHAEL-PC\\OneDrive\\Desktop\\Production_Report (3).xlsx', header=3)\n",
    "\n",
    "# Drop columns where all values are NaN (empty)\n",
    "df_cleaned = df.dropna(axis=1, how='all')\n",
    "\n",
    "# Drop rows where all values are NaN (empty)\n",
    "df_cleaned = df_cleaned.dropna(axis=0, how='all')\n",
    "\n",
    "# Display the cleaned-up DataFrame\n",
    "print(df_cleaned.head())\n"
   ]
  },
  {
   "cell_type": "code",
   "execution_count": 1,
   "id": "213c48b8-d257-4199-b319-4b4e383c5479",
   "metadata": {},
   "outputs": [],
   "source": [
    "import numpy as np\n",
    "\n",
    "def calculate(numbers):\n",
    "    # Convert the list into a 3x3 Numpy array\n",
    "    arr = np.array(numbers).reshape(3, 3)\n",
    "\n",
    "    # Create the dictionary to store the results\n",
    "    result = {\n",
    "        'mean': [arr.mean(axis=0).tolist(), arr.mean(axis=1).tolist(), arr.mean().tolist()],\n",
    "        'variance': [arr.var(axis=0).tolist(), arr.var(axis=1).tolist(), arr.var().tolist()],\n",
    "        'standard deviation': [arr.std(axis=0).tolist(), arr.std(axis=1).tolist(), arr.std().tolist()],\n",
    "        'max': [arr.max(axis=0).tolist(), arr.max(axis=1).tolist(), arr.max().tolist()],\n",
    "        'min': [arr.min(axis=0).tolist(), arr.min(axis=1).tolist(), arr.min().tolist()],\n",
    "        'sum': [arr.sum(axis=0).tolist(), arr.sum(axis=1).tolist(), arr.sum().tolist()]\n",
    "    }\n",
    "\n",
    "    return result\n"
   ]
  },
  {
   "cell_type": "code",
   "execution_count": 7,
   "id": "cd5cc960-5fd0-4e7b-be54-015686dbbd79",
   "metadata": {},
   "outputs": [
    {
     "name": "stdout",
     "output_type": "stream",
     "text": [
      "[1 2 3]\n"
     ]
    },
    {
     "data": {
      "text/plain": [
       "(3,)"
      ]
     },
     "execution_count": 7,
     "metadata": {},
     "output_type": "execute_result"
    }
   ],
   "source": [
    "import numpy as np\n",
    "a=np.array([1,2,3])\n",
    "print(a)\n",
    "a.shape"
   ]
  },
  {
   "cell_type": "code",
   "execution_count": 9,
   "id": "8979c4c1-8630-442f-a3a4-1c965786d6ea",
   "metadata": {},
   "outputs": [
    {
     "name": "stdout",
     "output_type": "stream",
     "text": [
      "[[9. 8. 7.]\n",
      " [6. 5. 4.]]\n"
     ]
    },
    {
     "data": {
      "text/plain": [
       "dtype('float64')"
      ]
     },
     "execution_count": 9,
     "metadata": {},
     "output_type": "execute_result"
    }
   ],
   "source": [
    "b= np.array([[9.0,8.0,7.0],[6.0,5.0,4.0]])\n",
    "print(b)\n",
    "\n",
    "b.shape\n",
    "b.dtype"
   ]
  },
  {
   "cell_type": "code",
   "execution_count": null,
   "id": "9567815a-8f66-4a59-b8c6-79c82b95ae3f",
   "metadata": {},
   "outputs": [],
   "source": [
    "#get shape\n",
    "a.shape\n"
   ]
  }
 ],
 "metadata": {
  "kernelspec": {
   "display_name": "Python 3 (ipykernel)",
   "language": "python",
   "name": "python3"
  },
  "language_info": {
   "codemirror_mode": {
    "name": "ipython",
    "version": 3
   },
   "file_extension": ".py",
   "mimetype": "text/x-python",
   "name": "python",
   "nbconvert_exporter": "python",
   "pygments_lexer": "ipython3",
   "version": "3.12.4"
  }
 },
 "nbformat": 4,
 "nbformat_minor": 5
}
